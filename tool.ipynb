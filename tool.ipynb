{
 "cells": [
  {
   "cell_type": "markdown",
   "id": "e5b9d844",
   "metadata": {},
   "source": [
    "# Multi Agent System to get the most popular news in Singapore"
   ]
  },
  {
   "cell_type": "markdown",
   "id": "8938bbf5",
   "metadata": {},
   "source": [
    "              +----------------+\n",
    "              | Manager agent  |\n",
    "              +----------------+\n",
    "                       |\n",
    "        _______________|______________\n",
    "       |                              |\n",
    "Code Interpreter            +------------------+\n",
    "    tool                    | Web Search agent |\n",
    "                            +------------------+\n",
    "                               |            |\n",
    "                        Web Search tool     |\n",
    "                                   Visit webpage tool"
   ]
  },
  {
   "cell_type": "code",
   "execution_count": null,
   "id": "2dace8ee",
   "metadata": {},
   "outputs": [
    {
     "ename": "",
     "evalue": "",
     "output_type": "error",
     "traceback": [
      "\u001b[1;31mRunning cells with '3.13 (Python 3.13.5)' requires the ipykernel package.\n",
      "\u001b[1;31mInstall 'ipykernel' into the Python environment. \n",
      "\u001b[1;31mCommand: '/opt/homebrew/opt/python@3.13/bin/python3.13 -m pip install ipykernel -U --force-reinstall'"
     ]
    }
   ],
   "source": [
    "%pip install markdownify"
   ]
  },
  {
   "cell_type": "code",
   "execution_count": null,
   "id": "5474cc5a",
   "metadata": {},
   "outputs": [
    {
     "ename": "",
     "evalue": "",
     "output_type": "error",
     "traceback": [
      "\u001b[1;31mRunning cells with '3.13 (Python 3.13.5)' requires the ipykernel package.\n",
      "\u001b[1;31mInstall 'ipykernel' into the Python environment. \n",
      "\u001b[1;31mCommand: '/opt/homebrew/opt/python@3.13/bin/python3.13 -m pip install ipykernel -U --force-reinstall'"
     ]
    }
   ],
   "source": [
    "import os\n",
    "from dotenv import load_dotenv\n"
   ]
  },
  {
   "cell_type": "code",
   "execution_count": null,
   "id": "4633104e",
   "metadata": {},
   "outputs": [],
   "source": [
    "result = load_dotenv()\n",
    "print(result)\n",
    "OPENAI_API_KEY = os.getenv('OPENAI_API_KEY')\n",
    "print(OPENAI_API_KEY)"
   ]
  },
  {
   "cell_type": "markdown",
   "id": "7932f561",
   "metadata": {},
   "source": [
    "### Create the web search tool\n",
    "\n",
    "We need to be able to peek into page found by the native WebSearchTool (Google search equivalent). Below is the tool we use to do so"
   ]
  },
  {
   "cell_type": "code",
   "execution_count": null,
   "id": "bff98afa",
   "metadata": {},
   "outputs": [],
   "source": [
    "import re\n",
    "import requests\n",
    "from markdownify import markdownify\n",
    "from requests.exceptions import RequestException\n",
    "from smolagents import tool\n",
    "\n",
    "\n",
    "@tool\n",
    "def visit_webpage(url: str) -> str:\n",
    "    \"\"\"Visits a webpage at the given URL and returns its content as a markdown string.\n",
    "\n",
    "    Args:\n",
    "        url: The URL of the webpage to visit.\n",
    "\n",
    "    Returns:\n",
    "        The content of the webpage converted to Markdown, or an error message if the request fails.\n",
    "    \"\"\"\n",
    "    try:\n",
    "        # Send a GET request to the URL\n",
    "        response = requests.get(url)\n",
    "        response.raise_for_status()  # Raise an exception for bad status codes\n",
    "\n",
    "        # Convert the HTML content to Markdown\n",
    "        markdown_content = markdownify(response.text).strip()\n",
    "\n",
    "        # Remove multiple line breaks\n",
    "        markdown_content = re.sub(r\"\\n{3,}\", \"\\n\\n\", markdown_content)\n",
    "\n",
    "        return markdown_content\n",
    "\n",
    "    except RequestException as e:\n",
    "        return f\"Error fetching the webpage: {str(e)}\"\n",
    "    except Exception as e:\n",
    "        return f\"An unexpected error occurred: {str(e)}\""
   ]
  },
  {
   "cell_type": "markdown",
   "id": "ec31b9f1",
   "metadata": {},
   "source": [
    "Test our visit webpage tool"
   ]
  },
  {
   "cell_type": "code",
   "execution_count": null,
   "id": "41d237b3",
   "metadata": {},
   "outputs": [],
   "source": [
    "print(visit_webpage(\"https://ffxiv.consolegameswiki.com/wiki/Dark_Knight\")[:500])"
   ]
  },
  {
   "cell_type": "markdown",
   "id": "ea74e599",
   "metadata": {},
   "source": [
    "### Build our multi-agent system\n",
    "\n",
    "- Use ToolCalling Agent because web browsing is a single timeline task, so we don't need parallel calls"
   ]
  },
  {
   "cell_type": "code",
   "execution_count": null,
   "id": "1af54ffe",
   "metadata": {},
   "outputs": [],
   "source": [
    "from smolagents import (\n",
    "    CodeAgent,\n",
    "    ToolCallingAgent,\n",
    "    InferenceClientModel,\n",
    "    WebSearchTool,\n",
    "    LiteLLMModel,\n",
    "    OpenAIServerModel\n",
    ")\n",
    "\n",
    "model_id = \"gpt-4.1-mini\"\n",
    "\n",
    "model = OpenAIServerModel(model_id=model_id, api_key=OPENAI_API_KEY)\n",
    "\n",
    "web_agent = ToolCallingAgent(\n",
    "    tools=[WebSearchTool(), visit_webpage],\n",
    "    model=model,\n",
    "    max_steps=10,\n",
    "    name=\"web_search_agent\",\n",
    "    description=\"Runs web searches for you.\",\n",
    ")"
   ]
  },
  {
   "cell_type": "markdown",
   "id": "2cec5f49",
   "metadata": {},
   "source": [
    "### Create the manager agent to call the web agent we made above\n",
    "\n",
    "Since this agent is the one tasked with the planning and thinking, advanced reasoning will be beneficial, so a CodeAgent will work well.\n"
   ]
  },
  {
   "cell_type": "code",
   "execution_count": null,
   "id": "a635475e",
   "metadata": {},
   "outputs": [],
   "source": [
    "manager_agent = CodeAgent(\n",
    "    tools=[],\n",
    "    model=model,\n",
    "    managed_agents=[web_agent],\n",
    "    additional_authorized_imports=[\"time\", \"numpy\", \"pandas\"],\n",
    ")"
   ]
  },
  {
   "cell_type": "markdown",
   "id": "d1578bea",
   "metadata": {},
   "source": [
    "We give some python packages to the Code Agent so it helps it do the stuff we want it to do"
   ]
  },
  {
   "cell_type": "code",
   "execution_count": null,
   "id": "03e5750c",
   "metadata": {},
   "outputs": [],
   "source": [
    "answer = manager_agent.run(\"Get the most viewed Singapore news today from Straits Times and Reddit. Format it into an array of json object with the its title and summary\", max_steps=5)"
   ]
  },
  {
   "cell_type": "markdown",
   "id": "d999b6fb",
   "metadata": {},
   "source": [
    "### Result\n",
    "\n",
    "We see the conclusion at the Final Answer portion of the output!"
   ]
  },
  {
   "cell_type": "markdown",
   "id": "556af52c",
   "metadata": {},
   "source": [
    "# Reference\n",
    "\n",
    "https://huggingface.co/docs/smolagents/en/examples/multiagents"
   ]
  },
  {
   "cell_type": "markdown",
   "id": "fa368dc1",
   "metadata": {},
   "source": []
  }
 ],
 "metadata": {
  "kernelspec": {
   "display_name": "3.13",
   "language": "python",
   "name": "python3"
  },
  "language_info": {
   "codemirror_mode": {
    "name": "ipython",
    "version": 3
   },
   "file_extension": ".py",
   "mimetype": "text/x-python",
   "name": "python",
   "nbconvert_exporter": "python",
   "pygments_lexer": "ipython3",
   "version": "3.13.5"
  }
 },
 "nbformat": 4,
 "nbformat_minor": 5
}
